{
 "cells": [
  {
   "cell_type": "code",
   "execution_count": 7,
   "id": "fcb7895b-fe2f-4a3d-a27e-bf4ebfb29e8f",
   "metadata": {},
   "outputs": [],
   "source": [
    "altsetting = 30.09\n",
    "fieldelev = 7258"
   ]
  },
  {
   "cell_type": "code",
   "execution_count": 8,
   "id": "cabff265-0701-4eea-a9f8-0f265c12c8bc",
   "metadata": {},
   "outputs": [
    {
     "name": "stdout",
     "output_type": "stream",
     "text": [
      "PA = 7088\n"
     ]
    }
   ],
   "source": [
    "pa = (29.92 - altsetting) * 1000 + fieldelev\n",
    "print(f'PA = {pa:.0f}')"
   ]
  },
  {
   "cell_type": "code",
   "execution_count": null,
   "id": "f479b92c-bf77-41e7-b7c1-d785b48a5436",
   "metadata": {},
   "outputs": [],
   "source": [
    "def getpa(altsetting=30.09, fieldelev=5355):\n",
    "    pa = (29.92 - altsetting) * 1000 + fieldelev\n",
    "    print(f'PA = {pa:.0f}')\n",
    "    return pa"
   ]
  }
 ],
 "metadata": {
  "kernelspec": {
   "display_name": "Python 3 (ipykernel)",
   "language": "python",
   "name": "python3"
  },
  "language_info": {
   "codemirror_mode": {
    "name": "ipython",
    "version": 3
   },
   "file_extension": ".py",
   "mimetype": "text/x-python",
   "name": "python",
   "nbconvert_exporter": "python",
   "pygments_lexer": "ipython3",
   "version": "3.12.3"
  }
 },
 "nbformat": 4,
 "nbformat_minor": 5
}
